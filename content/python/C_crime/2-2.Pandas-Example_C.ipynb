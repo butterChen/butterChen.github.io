{
 "cells": [
  {
   "cell_type": "markdown",
   "metadata": {},
   "source": [
    "# 動手做 ----------------------------------"
   ]
  },
  {
   "cell_type": "markdown",
   "metadata": {},
   "source": [
    "# 美國犯罪分析"
   ]
  },
  {
   "cell_type": "markdown",
   "metadata": {},
   "source": [
    "#### 題目: 讀取crime.xlsx，進行美國犯罪分析:\n",
    "* 將Year設為index\n",
    "* 刪除名為Total的列\n",
    "* 何時是美國歷史上生存最危險(各種犯罪Murder...統計值最高)的年代？\n",
    "* 美國歷史上犯罪Murder最高的前五年？\n",
    "* 查看每十年(1961, 1971)的犯罪統計，看是否有改善？\n",
    "* 美國歷史上犯罪Murder最高的前五年？\n",
    " \n"
   ]
  },
  {
   "cell_type": "code",
   "execution_count": null,
   "metadata": {},
   "outputs": [],
   "source": [
    "import pandas as pd\n",
    "import numpy as np\n",
    "\n",
    "path = r'C:\\Users\\tsiot07\\Desktop\\00. Python_Code\\2-2.Pandas_example\\crime.xlsx'\n",
    "crime = pd.read_excel(path)\n",
    "\n",
    "crime.head()"
   ]
  },
  {
   "cell_type": "markdown",
   "metadata": {},
   "source": [
    "# 補充說明 (idxmax)"
   ]
  },
  {
   "cell_type": "code",
   "execution_count": null,
   "metadata": {},
   "outputs": [],
   "source": [
    "crime.idxmax(0)"
   ]
  },
  {
   "cell_type": "code",
   "execution_count": null,
   "metadata": {},
   "outputs": [],
   "source": [
    "import pandas as pd \n",
    "# Creating the dataframe  \n",
    "df = pd.DataFrame({\"A\":[4, 5, 2, 6],  \n",
    "                   \"B\":[11, 2, 5, 8], \n",
    "                   \"C\":[1, 8, 66, 4]}) \n",
    "df.idxmax(axis = 0) "
   ]
  },
  {
   "cell_type": "code",
   "execution_count": null,
   "metadata": {},
   "outputs": [],
   "source": [
    "df"
   ]
  },
  {
   "cell_type": "code",
   "execution_count": null,
   "metadata": {},
   "outputs": [],
   "source": [
    "df.idxmax(axis = 1) "
   ]
  },
  {
   "cell_type": "code",
   "execution_count": null,
   "metadata": {},
   "outputs": [],
   "source": []
  },
  {
   "cell_type": "markdown",
   "metadata": {},
   "source": [
    "# 動手做 ----------------------------------"
   ]
  },
  {
   "cell_type": "markdown",
   "metadata": {},
   "source": [
    "# 2012歐洲杯足球賽資料分析"
   ]
  },
  {
   "cell_type": "markdown",
   "metadata": {},
   "source": [
    "#### 題目: 讀取Euro2012_stats.csv，進行分析:\n",
    "* 有多少球隊參與了2012歐洲杯？\n",
    "* 進球數前五的國家\n",
    "* 將黃牌和紅牌重新整理在discipline的表單\n",
    "* 按照先紅卡（由多到少）再黃卡進行排序\n",
    "* 找到進球數進球超過5的球隊數據\n",
    "* 找到英格蘭（England），義大利（Italy）和俄羅斯（Russia）的射正率\n"
   ]
  },
  {
   "cell_type": "code",
   "execution_count": null,
   "metadata": {},
   "outputs": [],
   "source": [
    "import pandas as pd\n",
    "\n",
    "path = r'C:\\Users\\tsiot07\\Desktop\\00. Python_Code\\2-2.Pandas_example\\Euro2012_stats.csv'\n",
    "\n",
    "euro12 = pd.read_csv(path)\n",
    "euro12"
   ]
  },
  {
   "cell_type": "code",
   "execution_count": null,
   "metadata": {},
   "outputs": [],
   "source": []
  },
  {
   "cell_type": "code",
   "execution_count": null,
   "metadata": {},
   "outputs": [],
   "source": [
    "import os\n",
    "\n",
    "os.getcwd()"
   ]
  },
  {
   "cell_type": "code",
   "execution_count": null,
   "metadata": {},
   "outputs": [],
   "source": []
  }
 ],
 "metadata": {
  "kernelspec": {
   "display_name": "Python 3",
   "language": "python",
   "name": "python3"
  },
  "language_info": {
   "codemirror_mode": {
    "name": "ipython",
    "version": 3
   },
   "file_extension": ".py",
   "mimetype": "text/x-python",
   "name": "python",
   "nbconvert_exporter": "python",
   "pygments_lexer": "ipython3",
   "version": "3.7.6"
  }
 },
 "nbformat": 4,
 "nbformat_minor": 4
}
